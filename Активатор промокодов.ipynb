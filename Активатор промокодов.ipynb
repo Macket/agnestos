{
 "cells": [
  {
   "cell_type": "code",
   "execution_count": 2,
   "metadata": {},
   "outputs": [],
   "source": [
    "import requests\n",
    "import re\n",
    "from bs4 import BeautifulSoup\n",
    "import gspread\n",
    "from oauth2client.service_account import ServiceAccountCredentials"
   ]
  },
  {
   "cell_type": "code",
   "execution_count": 3,
   "metadata": {},
   "outputs": [],
   "source": [
    "spreadsheet_name = 'Test-sheet'"
   ]
  },
  {
   "cell_type": "code",
   "execution_count": null,
   "metadata": {},
   "outputs": [],
   "source": [
    "# use creds to create a client to interact with the Google Drive API\n",
    "scope = ['https://spreadsheets.google.com/feeds', 'https://www.googleapis.com/auth/drive']\n",
    "creds = ServiceAccountCredentials.from_json_keyfile_name('client_secret.json', scope)\n",
    "client = gspread.authorize(creds)\n",
    "\n",
    "# Find a workbook by name and open the first sheet\n",
    "# Make sure you use the right name here.\n",
    "sheet = client.open(spreadsheet_name).sheet1\n",
    "\n",
    "# Extract and print all of the values\n",
    "list_of_hashes = sheet.get_all_records()"
   ]
  },
  {
   "cell_type": "code",
   "execution_count": null,
   "metadata": {},
   "outputs": [],
   "source": [
    "def get_requestId_from_url(url):\n",
    "    reg = re.compile('request_id=\\d+')\n",
    "    res = reg.search(url)\n",
    "    return url[res.start() + 11:]"
   ]
  },
  {
   "cell_type": "code",
   "execution_count": null,
   "metadata": {},
   "outputs": [],
   "source": [
    "login_col = 2\n",
    "passwd_col = 4\n",
    "promo_col = 7\n",
    "result_col = 8\n",
    "row = 1\n",
    "while len(sheet.cell(row, login_col).value) > 0:\n",
    "    try:\n",
    "        login = sheet.cell(row, login_col).value\n",
    "        passwd = sheet.cell(row, passwd_col).value\n",
    "        promo = sheet.cell(row, promo_col).value\n",
    "        print(login, passwd, promo)\n",
    "\n",
    "        session = requests.Session()\n",
    "\n",
    "        url = 'https://passport.yandex.ru/passport?mode=auth'\n",
    "        data = {'login': login, 'passwd': passwd}\n",
    "        r1 = session.post(url, data=data)\n",
    "\n",
    "        r2 = session.get('https://direct.yandex.ru/registered/main.pl?cmd=showCamps')\n",
    "        html2 = BeautifulSoup(r2.text, 'html.parser')\n",
    "        account_number = html2.find(\"div\", {\"class\":\"b-wallet-link__hint-item-value\"}).text\n",
    "\n",
    "        direct_url = 'https://direct.yandex.ru/registered/main.pl?cmd=payforall&sums_with_nds=1&sum_{}=1770'.format(account_number)\n",
    "        r3 = session.get(direct_url)\n",
    "\n",
    "        html3 = BeautifulSoup(r3.text, 'html.parser')\n",
    "        csrf_token = html3.find(\"input\", {\"name\":\"csrf_token\"})['value']\n",
    "        r4 = session.get('{0}&csrf_token={1}'.format(direct_url, csrf_token))\n",
    "\n",
    "        request_id = get_requestId_from_url(r4.url)\n",
    "        r5 = session.get('https://balance.yandex.ru/check_coupon.xml?r={0}&q={1}'.format(request_id, promo))\n",
    "\n",
    "        html5 = BeautifulSoup(r5.text, 'html.parser')\n",
    "        ok = html5.find(\"ok\")\n",
    "\n",
    "        if ok is not None:\n",
    "            sheet.update_cell(row, result_col, \"Активирован\")\n",
    "        else:\n",
    "            sheet.update_cell(row, result_col, \"Ошибка\")\n",
    "    except:\n",
    "        sheet.update_cell(row, result_col, \"Неполадки с учётной записью\")\n",
    "    row += 1"
   ]
  }
 ],
 "metadata": {
  "kernelspec": {
   "display_name": "Python 3",
   "language": "python",
   "name": "python3"
  },
  "language_info": {
   "codemirror_mode": {
    "name": "ipython",
    "version": 3
   },
   "file_extension": ".py",
   "mimetype": "text/x-python",
   "name": "python",
   "nbconvert_exporter": "python",
   "pygments_lexer": "ipython3",
   "version": "3.7.0"
  }
 },
 "nbformat": 4,
 "nbformat_minor": 2
}
