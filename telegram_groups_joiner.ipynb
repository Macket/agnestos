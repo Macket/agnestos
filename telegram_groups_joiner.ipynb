{
 "cells": [
  {
   "cell_type": "code",
   "execution_count": 27,
   "metadata": {},
   "outputs": [],
   "source": [
    "from telethon import TelegramClient, sync\n",
    "from telethon.tl.functions.messages import ImportChatInviteRequest\n",
    "from telethon.tl.functions.channels import JoinChannelRequest\n",
    "from time import sleep"
   ]
  },
  {
   "cell_type": "code",
   "execution_count": 28,
   "metadata": {},
   "outputs": [],
   "source": [
    "def get_credentials(file_name):\n",
    "    file = open('{}'.format(file_name), 'r')\n",
    "    content = file.read()\n",
    "    credentials_with_None = content.split('\\n')\n",
    "    credentials = [x for x in credentials_with_None if x]\n",
    "    return {'api_id': int(credentials[0]), 'api_hash': credentials[1] }\n",
    "\n",
    "def get_groups(file_name):\n",
    "    file = open('data/{}'.format(file_name), 'r')\n",
    "    content = file.read()\n",
    "    groups_with_None = content.split('\\n')\n",
    "    groups = [x.split('/')[-1] for x in groups_with_None if x]\n",
    "    return groups"
   ]
  },
  {
   "cell_type": "code",
   "execution_count": 29,
   "metadata": {},
   "outputs": [
    {
     "data": {
      "text/plain": [
       "<telethon.client.telegramclient.TelegramClient at 0x29d9ff3d7f0>"
      ]
     },
     "execution_count": 29,
     "metadata": {},
     "output_type": "execute_result"
    }
   ],
   "source": [
    "api_id = get_credentials('data/credentials.txt')['api_id']\n",
    "api_hash = get_credentials('data/credentials.txt')['api_hash']\n",
    "\n",
    "client = TelegramClient('session', api_id, api_hash)\n",
    "client.start()"
   ]
  },
  {
   "cell_type": "code",
   "execution_count": null,
   "metadata": {},
   "outputs": [],
   "source": [
    "delay = 60"
   ]
  },
  {
   "cell_type": "code",
   "execution_count": 34,
   "metadata": {},
   "outputs": [
    {
     "name": "stdout",
     "output_type": "stream",
     "text": [
      "Не получилось вступить в группу public_group_dfknlsd\n"
     ]
    }
   ],
   "source": [
    "for group in get_groups('public_groups.txt'):\n",
    "    try:\n",
    "        client(JoinChannelRequest(group))\n",
    "        sleep(delay)\n",
    "    except:\n",
    "        print('Не получилось вступить в группу {}'.format(group))\n",
    "        sleep(delay)"
   ]
  },
  {
   "cell_type": "code",
   "execution_count": 33,
   "metadata": {},
   "outputs": [
    {
     "name": "stdout",
     "output_type": "stream",
     "text": [
      "Не получилось вступить в группу DmHzfBaTEsHZ5w-mr81dsnflk\n"
     ]
    }
   ],
   "source": [
    "for group in get_groups('private_groups.txt'):\n",
    "    try:\n",
    "        client(ImportChatInviteRequest(group))\n",
    "        sleep(delay)\n",
    "    except:\n",
    "        print('Не получилось вступить в группу {}'.format(group))\n",
    "        sleep(delay)"
   ]
  }
 ],
 "metadata": {
  "kernelspec": {
   "display_name": "Python 3",
   "language": "python",
   "name": "python3"
  },
  "language_info": {
   "codemirror_mode": {
    "name": "ipython",
    "version": 3
   },
   "file_extension": ".py",
   "mimetype": "text/x-python",
   "name": "python",
   "nbconvert_exporter": "python",
   "pygments_lexer": "ipython3",
   "version": "3.7.0"
  }
 },
 "nbformat": 4,
 "nbformat_minor": 2
}
