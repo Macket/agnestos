{
 "cells": [
  {
   "cell_type": "code",
   "execution_count": 13,
   "metadata": {},
   "outputs": [],
   "source": [
    "from telethon import TelegramClient, sync\n",
    "from telethon.tl.functions.messages import ImportChatInviteRequest\n",
    "from telethon.tl.functions.channels import JoinChannelRequest\n",
    "from time import sleep\n",
    "from datetime import datetime\n",
    "import random"
   ]
  },
  {
   "cell_type": "code",
   "execution_count": 2,
   "metadata": {},
   "outputs": [],
   "source": [
    "def get_credentials(file_name):\n",
    "    file = open('{}'.format(file_name), 'r')\n",
    "    content = file.read()\n",
    "    credentials_with_None = content.split('\\n')\n",
    "    credentials = [x for x in credentials_with_None if x]\n",
    "    return {'api_id': int(credentials[0]), 'api_hash': credentials[1] }\n",
    "\n",
    "def get_groups(file_name):\n",
    "    file = open('data/{}'.format(file_name), 'r')\n",
    "    content = file.read()\n",
    "    groups_with_None = content.split('\\n')\n",
    "    groups = [x.split('/')[-1] for x in groups_with_None if x]\n",
    "    return groups"
   ]
  },
  {
   "cell_type": "code",
   "execution_count": 3,
   "metadata": {},
   "outputs": [
    {
     "data": {
      "text/plain": [
       "<telethon.client.telegramclient.TelegramClient at 0x148fb2402e8>"
      ]
     },
     "execution_count": 3,
     "metadata": {},
     "output_type": "execute_result"
    }
   ],
   "source": [
    "api_id = get_credentials('data/credentials.txt')['api_id']\n",
    "api_hash = get_credentials('data/credentials.txt')['api_hash']\n",
    "\n",
    "client = TelegramClient('session', api_id, api_hash)\n",
    "client.start()"
   ]
  },
  {
   "cell_type": "code",
   "execution_count": 12,
   "metadata": {},
   "outputs": [
    {
     "name": "stdout",
     "output_type": "stream",
     "text": [
      "Успешно вступил в группу public_group_1\n",
      "Успешно вступил в группу public_group_2\n",
      "Не получилось вступить в группу public_group_dfknlsd. Ошибка: No user has \"public_group_dfknlsd\" as username\n",
      "Успешных вступлений: 2  Ошибок: 1\n",
      "\n",
      "\n"
     ]
    }
   ],
   "source": [
    "successes = 0\n",
    "errors = 0\n",
    "for group in get_groups('public_groups.txt'):\n",
    "    try:\n",
    "        client(JoinChannelRequest(group))\n",
    "        successes += 1\n",
    "        print('Успешно вступил в группу {}'.format(group))\n",
    "        with open(\"log/groups_joiner_log.txt\", \"a\") as file:\n",
    "            file.write(f'{datetime.now()}  {group}  success\\n')\n",
    "    except Exception as e:\n",
    "        errors += 1\n",
    "        with open(\"log/groups_joiner_log.txt\", \"a\") as file:\n",
    "            file.write(f'{datetime.now()}  {group}  error ({e})\\n')\n",
    "        print('Не получилось вступить в группу {0}. Ошибка: {1}'.format(group, e))\n",
    "    finally:\n",
    "        sleep(random.randint(60,121))\n",
    "with open(\"log/groups_joiner_log.txt\", \"a\") as file:\n",
    "    file.write('Успешных вступлений: {0}  Ошибок: {1}\\n\\n'.format(successes, errors))\n",
    "print('Успешных вступлений: {0}  Ошибок: {1}\\n\\n'.format(successes, errors))"
   ]
  },
  {
   "cell_type": "code",
   "execution_count": 14,
   "metadata": {},
   "outputs": [
    {
     "name": "stdout",
     "output_type": "stream",
     "text": [
      "Не получилось вступить в группу DmHzfBMcfxR3FVhvRq_vVA. Ошибка: The authenticated user is already a participant of the chat\n",
      "Не получилось вступить в группу DmHzfBaTEsHZ5w-mr813Gw. Ошибка: The authenticated user is already a participant of the chat\n",
      "Не получилось вступить в группу DmHzfBaTEsHZ5w-mr81dsnflk. Ошибка: The invite hash is invalid\n",
      "Успешных вступлений: 0  Ошибок: 3\n",
      "\n",
      "\n"
     ]
    }
   ],
   "source": [
    "successes = 0\n",
    "errors = 0\n",
    "for group in get_groups('private_groups.txt'):\n",
    "    try:\n",
    "        client(ImportChatInviteRequest(group))\n",
    "        successes += 1\n",
    "        print('Успешно вступил в группу {}'.format(group))\n",
    "        with open(\"log/groups_joiner_log.txt\", \"a\") as file:\n",
    "            file.write(f'{datetime.now()}  {group}  success\\n')\n",
    "    except Exception as e:\n",
    "        errors += 1\n",
    "        with open(\"log/groups_joiner_log.txt\", \"a\") as file:\n",
    "            file.write(f'{datetime.now()}  {group}  error ({e})\\n')\n",
    "        print('Не получилось вступить в группу {0}. Ошибка: {1}'.format(group, e))\n",
    "    finally:\n",
    "        sleep(random.randint(60,121))\n",
    "with open(\"log/groups_joiner_log.txt\", \"a\") as file:\n",
    "    file.write('Успешных вступлений: {0}  Ошибок: {1}\\n\\n'.format(successes, errors))\n",
    "print('Успешных вступлений: {0}  Ошибок: {1}\\n\\n'.format(successes, errors))"
   ]
  }
 ],
 "metadata": {
  "kernelspec": {
   "display_name": "Python 3",
   "language": "python",
   "name": "python3"
  },
  "language_info": {
   "codemirror_mode": {
    "name": "ipython",
    "version": 3
   },
   "file_extension": ".py",
   "mimetype": "text/x-python",
   "name": "python",
   "nbconvert_exporter": "python",
   "pygments_lexer": "ipython3",
   "version": "3.7.0"
  }
 },
 "nbformat": 4,
 "nbformat_minor": 2
}
