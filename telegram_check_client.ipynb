{
 "cells": [
  {
   "cell_type": "code",
   "execution_count": 1,
   "metadata": {},
   "outputs": [
    {
     "data": {
      "text/plain": [
       "<telethon.client.telegramclient.TelegramClient at 0x1c60f60a390>"
      ]
     },
     "execution_count": 1,
     "metadata": {},
     "output_type": "execute_result"
    }
   ],
   "source": [
    "from telethon import TelegramClient, sync\n",
    "\n",
    "def get_credentials(file_name):\n",
    "    file = open('data/{}'.format(file_name), 'r')\n",
    "    content = file.read()\n",
    "    credentials_with_None = content.split('\\n')\n",
    "    credentials = [x for x in credentials_with_None if x]\n",
    "    return {'api_id': int(credentials[0]), 'api_hash': credentials[1] }\n",
    "\n",
    "# Use your own values here\n",
    "api_id = get_credentials('credentials.txt')['api_id']\n",
    "api_hash = get_credentials('credentials.txt')['api_hash']\n",
    "\n",
    "client = TelegramClient('session', api_id, api_hash)\n",
    "client.start()"
   ]
  },
  {
   "cell_type": "markdown",
   "metadata": {},
   "source": [
    "## Информация об аккаунте"
   ]
  },
  {
   "cell_type": "code",
   "execution_count": null,
   "metadata": {},
   "outputs": [],
   "source": [
    "# Вывести данные аккаунта (username, номер телефона к которому привязан аккаунт, айди, данные АПИ)"
   ]
  },
  {
   "cell_type": "code",
   "execution_count": 14,
   "metadata": {},
   "outputs": [
    {
     "name": "stdout",
     "output_type": "stream",
     "text": [
      "ID:  582056554\n",
      "Username:  alisadark666\n",
      "Phone:  79162522472\n",
      "API_ID:  666536\n",
      "API_HASH:  94668edef0964ca8ad7b1d532a707338\n"
     ]
    }
   ],
   "source": [
    "client_info = client.get_me()\n",
    "print('ID: ', client_info.id)\n",
    "print('Username: ', client_info.username)\n",
    "print('Phone: ', client_info.phone)\n",
    "print('API_ID: ', api_id)\n",
    "print('API_HASH: ', api_hash)\n"
   ]
  },
  {
   "cell_type": "markdown",
   "metadata": {},
   "source": [
    "## Вывести список групп"
   ]
  },
  {
   "cell_type": "code",
   "execution_count": 7,
   "metadata": {},
   "outputs": [
    {
     "name": "stdout",
     "output_type": "stream",
     "text": [
      "Закрытая группа 1\n",
      "Группа для спама 2\n",
      "Группа для спама 1\n",
      "группа для тестов 3\n",
      "Закрытая группа 2\n",
      "Открытая группа 1\n",
      "Открытая группа 2\n",
      "Группа для вступления 1\n",
      "\n",
      "Всего групп: 8\n"
     ]
    }
   ],
   "source": [
    "groups = []\n",
    "for dialog in client.get_dialogs():\n",
    "    if dialog.is_group:\n",
    "        groups.append(dialog.name)\n",
    "\n",
    "for group in groups:\n",
    "    print(group)\n",
    "print(f'\\nВсего групп: {len(groups)}')"
   ]
  }
 ],
 "metadata": {
  "kernelspec": {
   "display_name": "Python 3",
   "language": "python",
   "name": "python3"
  },
  "language_info": {
   "codemirror_mode": {
    "name": "ipython",
    "version": 3
   },
   "file_extension": ".py",
   "mimetype": "text/x-python",
   "name": "python",
   "nbconvert_exporter": "python",
   "pygments_lexer": "ipython3",
   "version": "3.7.0"
  }
 },
 "nbformat": 4,
 "nbformat_minor": 2
}
