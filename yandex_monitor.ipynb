{
 "cells": [
  {
   "cell_type": "code",
   "execution_count": 1,
   "metadata": {},
   "outputs": [],
   "source": [
    "import requests, pickle, os , re, gspread\n",
    "from bs4 import BeautifulSoup\n",
    "from oauth2client.service_account import ServiceAccountCredentials\n",
    "from datetime import datetime\n",
    "from random import randint\n",
    "from time import sleep\n",
    "from telethon import TelegramClient, sync, events"
   ]
  },
  {
   "cell_type": "code",
   "execution_count": 2,
   "metadata": {},
   "outputs": [],
   "source": [
    "def get_spreadsheets(file_name):\n",
    "    file = open('{}'.format(file_name), 'r')\n",
    "    content = file.read()\n",
    "    spreadsheets_with_None = content.split('\\n')\n",
    "    spreadsheets = [x.split('/')[-1] for x in spreadsheets_with_None if x]\n",
    "    return spreadsheets\n",
    "\n",
    "def write_success_report(spreadsheet, row, login, title, state, date, clicks, balance):\n",
    "    spreadsheet.update_cell(row, 1, login)\n",
    "    spreadsheet.update_cell(row, 2, title)\n",
    "    spreadsheet.update_cell(row, 3, state)\n",
    "    spreadsheet.update_cell(row, 4, date)\n",
    "    spreadsheet.update_cell(row, 5, clicks)\n",
    "    spreadsheet.update_cell(row, 6, balance)\n",
    "    spreadsheet.update_cell(row, 7, str(datetime.now()))\n",
    "    spreadsheet.update_cell(row, 8, \"\")\n",
    "    \n",
    "def write_error_report(spreadsheet, row, login, error):\n",
    "    spreadsheet.update_cell(row, 1, login)\n",
    "    spreadsheet.update_cell(row, 8, error)\n",
    "    \n",
    "def clear_row(spreadsheet, row):\n",
    "    spreadsheet.update_cell(row, 1, \"\")\n",
    "    spreadsheet.update_cell(row, 2, \"\")\n",
    "    spreadsheet.update_cell(row, 3, \"\")\n",
    "    spreadsheet.update_cell(row, 4, \"\")\n",
    "    spreadsheet.update_cell(row, 5, \"\")\n",
    "    spreadsheet.update_cell(row, 6, \"\")\n",
    "    spreadsheet.update_cell(row, 7, \"\")\n",
    "    spreadsheet.update_cell(row, 8, \"\")\n",
    "\n",
    "def get_bot_credentials(filename):\n",
    "    file = open('auth/{}'.format(filename), 'r')\n",
    "    content = file.read()\n",
    "    credentials_with_None = content.split('\\n')\n",
    "    credentials = [x for x in credentials_with_None if x]\n",
    "    return {'api_id': int(credentials[0]), 'api_hash': credentials[1], 'bot_token': credentials[2]}\n",
    "\n",
    "def get_id_from_string(str):\n",
    "    try:\n",
    "        id = int(str)\n",
    "        return id\n",
    "    except:\n",
    "        pass\n",
    "\n",
    "def get_bot_admins_list(filename):\n",
    "    file = open(filename, 'r')\n",
    "    content = file.read()\n",
    "    list_with_None = list(map(get_id_from_string, content.split('\\n')))\n",
    "    final_list = [x for x in list_with_None if x]\n",
    "    return final_list"
   ]
  },
  {
   "cell_type": "code",
   "execution_count": 3,
   "metadata": {},
   "outputs": [
    {
     "data": {
      "text/plain": [
       "<telethon.client.telegramclient.TelegramClient at 0x2aec8b9d128>"
      ]
     },
     "execution_count": 3,
     "metadata": {},
     "output_type": "execute_result"
    }
   ],
   "source": [
    "# Use your own values here\n",
    "creds = get_bot_credentials('credentials.txt')\n",
    "\n",
    "telegram_client = TelegramClient('bot_session', creds['api_id'], creds['api_hash'])\n",
    "telegram_client.start(bot_token=creds['bot_token'])"
   ]
  },
  {
   "cell_type": "code",
   "execution_count": 4,
   "metadata": {},
   "outputs": [],
   "source": [
    "login_col, passwd_col, threshold_col, proxyIP_col, proxyLogin_col, proxyPass_col, userAgent_col = 2, 4, 6, 8, 10, 12, 14\n",
    "\n",
    "def run_monitor():\n",
    "    # use creds to create a client to interact with the Google Drive API\n",
    "    # (https://www.twilio.com/blog/2017/02/an-easy-way-to-read-and-write-to-a-google-spreadsheet-in-python.html)\n",
    "    scope = ['https://spreadsheets.google.com/feeds', 'https://www.googleapis.com/auth/drive']\n",
    "    creds = ServiceAccountCredentials.from_json_keyfile_name('auth/client_secret.json', scope)\n",
    "    google_client = gspread.authorize(creds)\n",
    "    for spreadsheet_name in get_spreadsheets('data/spreadsheets.txt'):\n",
    "        source_row = 1\n",
    "        report_row = 2\n",
    "        source_spreadsheet = google_client.open(spreadsheet_name).sheet1\n",
    "        try: \n",
    "            report_spreadsheet = google_client.open(spreadsheet_name + '_report').sheet1\n",
    "        except:\n",
    "            report_spreadsheet = None\n",
    "        if report_spreadsheet:\n",
    "            while len(source_spreadsheet.cell(source_row, login_col).value) > 0:\n",
    "                try:\n",
    "                    login = source_spreadsheet.cell(source_row, login_col).value\n",
    "                    passwd = source_spreadsheet.cell(source_row, passwd_col).value\n",
    "                    \n",
    "                    try:\n",
    "                        threshold = float(source_spreadsheet.cell(source_row, threshold_col).value)\n",
    "                    except:\n",
    "                        threshold = 0\n",
    "                    \n",
    "                    proxyIP = source_spreadsheet.cell(source_row, proxyIP_col).value\n",
    "                    proxyLogin = source_spreadsheet.cell(source_row, proxyLogin_col).value\n",
    "                    proxyPass = source_spreadsheet.cell(source_row, proxyPass_col).value\n",
    "                    userAgent = source_spreadsheet.cell(source_row, userAgent_col).value\n",
    "                    proxies = {\n",
    "                        'http': f'http://{proxyLogin}:{proxyPass}@{proxyIP}',\n",
    "                        'https': f'https://{proxyLogin}:{proxyPass}@{proxyIP}',\n",
    "                    }\n",
    "\n",
    "                    session_filename = f'{login.split(\"@\")[0] + \"@\" + login.split(\"@\")[1].split(\".\")[0]}.pkl'\n",
    "                    session = requests.Session()\n",
    "                    session.headers['User-Agent'] = userAgent\n",
    "                    if os.path.isfile(f'./yandex_sessions/{spreadsheet_name}_report/{session_filename}'):\n",
    "                        with open(f'./yandex_sessions/{spreadsheet_name}_report/{session_filename}', 'rb') as f:\n",
    "                            session = pickle.load(f)\n",
    "                    else:\n",
    "                        url = 'https://passport.yandex.ru/passport?mode=auth'\n",
    "                        data = {'login': login, 'passwd': passwd}\n",
    "                        session.get(url)\n",
    "                        r = session.post(url, data=data, proxies=proxies)\n",
    "                        if 'yandex_login' in session.cookies.get_dict():\n",
    "                            with open(f'./yandex_sessions/{spreadsheet_name}_report/{session_filename}', 'wb') as f:\n",
    "                                pickle.dump(session, f)\n",
    "                            \n",
    "                    response = session.get('https://direct.yandex.ru/registered/main.pl?cmd=showCamps', proxies=proxies)\n",
    "                    html = BeautifulSoup(response.text, 'html.parser')\n",
    "\n",
    "                    balance = html.find(\"div\", {\"class\":\"b-wallet-link__title-sum b-wallet-link__valign-middle\"}).text\n",
    "                    if float(balance[:-5].replace('\\xa0', '')) <= threshold:\n",
    "                        for user_id in get_bot_admins_list('data/admins.txt'):\n",
    "                            telegram_client.send_message(user_id, f'Счёт этого аккаунта {login} ниже {threshold} руб. значения')\n",
    "\n",
    "                    campaigns = html.findAll(\"tr\", {\"class\":\"b-campaigns-list-item\"})\n",
    "                    for campaign in campaigns:\n",
    "                        title = campaign.find((\"h3\", {\"class\":\"b-campaigns-list-item__title\"})).text\n",
    "                        state = campaign.find(\"div\", {\"class\":\"b-campaigns-list-item__state\"}).text\n",
    "                        date = campaign.find(\"div\", {\"class\":\"b-campaigns-list-item__date\"}).text\n",
    "                        clicks = campaign.find(\"div\", {\"class\":\"b-list-numeric b-list-numeric_type_clicks\"}).text\n",
    "\n",
    "                        write_success_report(report_spreadsheet, report_row,\n",
    "                                             login, title, state, date, clicks, balance)\n",
    "                        report_row += 1\n",
    "                        sleep(10)\n",
    "                except Exception as e:\n",
    "                    write_error_report(report_spreadsheet, report_row, login, e.__str__())\n",
    "                    report_row += 1\n",
    "                    sleep(10)\n",
    "                finally:\n",
    "                    source_row += 1\n",
    "            while len(report_spreadsheet.cell(report_row, 1).value) > 0:\n",
    "                clear_row(report_spreadsheet, report_row)\n",
    "                report_row += 1\n",
    "                sleep(10)"
   ]
  },
  {
   "cell_type": "code",
   "execution_count": 5,
   "metadata": {
    "scrolled": true
   },
   "outputs": [
    {
     "ename": "APIError",
     "evalue": "{\n  \"error\": {\n    \"code\": 500,\n    \"message\": \"Internal error encountered.\",\n    \"status\": \"INTERNAL\"\n  }\n}\n",
     "output_type": "error",
     "traceback": [
      "\u001b[1;31m---------------------------------------------------------------------------\u001b[0m",
      "\u001b[1;31mAPIError\u001b[0m                                  Traceback (most recent call last)",
      "\u001b[1;32m<ipython-input-4-375351134dfc>\u001b[0m in \u001b[0;36mrun_monitor\u001b[1;34m()\u001b[0m\n\u001b[0;32m     67\u001b[0m                         write_success_report(report_spreadsheet, report_row,\n\u001b[1;32m---> 68\u001b[1;33m                                              login, title, state, date, clicks, balance)\n\u001b[0m\u001b[0;32m     69\u001b[0m                         \u001b[0mreport_row\u001b[0m \u001b[1;33m+=\u001b[0m \u001b[1;36m1\u001b[0m\u001b[1;33m\u001b[0m\u001b[0m\n",
      "\u001b[1;32m<ipython-input-2-1363c8791048>\u001b[0m in \u001b[0;36mwrite_success_report\u001b[1;34m(spreadsheet, row, login, title, state, date, clicks, balance)\u001b[0m\n\u001b[0;32m     11\u001b[0m     \u001b[0mspreadsheet\u001b[0m\u001b[1;33m.\u001b[0m\u001b[0mupdate_cell\u001b[0m\u001b[1;33m(\u001b[0m\u001b[0mrow\u001b[0m\u001b[1;33m,\u001b[0m \u001b[1;36m3\u001b[0m\u001b[1;33m,\u001b[0m \u001b[0mstate\u001b[0m\u001b[1;33m)\u001b[0m\u001b[1;33m\u001b[0m\u001b[0m\n\u001b[1;32m---> 12\u001b[1;33m     \u001b[0mspreadsheet\u001b[0m\u001b[1;33m.\u001b[0m\u001b[0mupdate_cell\u001b[0m\u001b[1;33m(\u001b[0m\u001b[0mrow\u001b[0m\u001b[1;33m,\u001b[0m \u001b[1;36m4\u001b[0m\u001b[1;33m,\u001b[0m \u001b[0mdate\u001b[0m\u001b[1;33m)\u001b[0m\u001b[1;33m\u001b[0m\u001b[0m\n\u001b[0m\u001b[0;32m     13\u001b[0m     \u001b[0mspreadsheet\u001b[0m\u001b[1;33m.\u001b[0m\u001b[0mupdate_cell\u001b[0m\u001b[1;33m(\u001b[0m\u001b[0mrow\u001b[0m\u001b[1;33m,\u001b[0m \u001b[1;36m5\u001b[0m\u001b[1;33m,\u001b[0m \u001b[0mclicks\u001b[0m\u001b[1;33m)\u001b[0m\u001b[1;33m\u001b[0m\u001b[0m\n",
      "\u001b[1;32mC:\\ProgramData\\Anaconda3\\lib\\site-packages\\gspread\\models.py\u001b[0m in \u001b[0;36mupdate_cell\u001b[1;34m(self, row, col, value)\u001b[0m\n\u001b[0;32m    738\u001b[0m             body={\n\u001b[1;32m--> 739\u001b[1;33m                 \u001b[1;34m'values'\u001b[0m\u001b[1;33m:\u001b[0m \u001b[1;33m[\u001b[0m\u001b[1;33m[\u001b[0m\u001b[0mvalue\u001b[0m\u001b[1;33m]\u001b[0m\u001b[1;33m]\u001b[0m\u001b[1;33m\u001b[0m\u001b[0m\n\u001b[0m\u001b[0;32m    740\u001b[0m             }\n",
      "\u001b[1;32mC:\\ProgramData\\Anaconda3\\lib\\site-packages\\gspread\\models.py\u001b[0m in \u001b[0;36mvalues_update\u001b[1;34m(self, range, params, body)\u001b[0m\n\u001b[0;32m    175\u001b[0m         \u001b[0murl\u001b[0m \u001b[1;33m=\u001b[0m \u001b[0mSPREADSHEET_VALUES_URL\u001b[0m \u001b[1;33m%\u001b[0m \u001b[1;33m(\u001b[0m\u001b[0mself\u001b[0m\u001b[1;33m.\u001b[0m\u001b[0mid\u001b[0m\u001b[1;33m,\u001b[0m \u001b[0mquote\u001b[0m\u001b[1;33m(\u001b[0m\u001b[0mrange\u001b[0m\u001b[1;33m)\u001b[0m\u001b[1;33m)\u001b[0m\u001b[1;33m\u001b[0m\u001b[0m\n\u001b[1;32m--> 176\u001b[1;33m         \u001b[0mr\u001b[0m \u001b[1;33m=\u001b[0m \u001b[0mself\u001b[0m\u001b[1;33m.\u001b[0m\u001b[0mclient\u001b[0m\u001b[1;33m.\u001b[0m\u001b[0mrequest\u001b[0m\u001b[1;33m(\u001b[0m\u001b[1;34m'put'\u001b[0m\u001b[1;33m,\u001b[0m \u001b[0murl\u001b[0m\u001b[1;33m,\u001b[0m \u001b[0mparams\u001b[0m\u001b[1;33m=\u001b[0m\u001b[0mparams\u001b[0m\u001b[1;33m,\u001b[0m \u001b[0mjson\u001b[0m\u001b[1;33m=\u001b[0m\u001b[0mbody\u001b[0m\u001b[1;33m)\u001b[0m\u001b[1;33m\u001b[0m\u001b[0m\n\u001b[0m\u001b[0;32m    177\u001b[0m         \u001b[1;32mreturn\u001b[0m \u001b[0mr\u001b[0m\u001b[1;33m.\u001b[0m\u001b[0mjson\u001b[0m\u001b[1;33m(\u001b[0m\u001b[1;33m)\u001b[0m\u001b[1;33m\u001b[0m\u001b[0m\n",
      "\u001b[1;32mC:\\ProgramData\\Anaconda3\\lib\\site-packages\\gspread\\client.py\u001b[0m in \u001b[0;36mrequest\u001b[1;34m(self, method, endpoint, params, data, json, files, headers)\u001b[0m\n\u001b[0;32m     78\u001b[0m         \u001b[1;32melse\u001b[0m\u001b[1;33m:\u001b[0m\u001b[1;33m\u001b[0m\u001b[0m\n\u001b[1;32m---> 79\u001b[1;33m             \u001b[1;32mraise\u001b[0m \u001b[0mAPIError\u001b[0m\u001b[1;33m(\u001b[0m\u001b[0mresponse\u001b[0m\u001b[1;33m)\u001b[0m\u001b[1;33m\u001b[0m\u001b[0m\n\u001b[0m\u001b[0;32m     80\u001b[0m \u001b[1;33m\u001b[0m\u001b[0m\n",
      "\u001b[1;31mAPIError\u001b[0m: {\n  \"error\": {\n    \"code\": 500,\n    \"message\": \"Internal error encountered.\",\n    \"status\": \"INTERNAL\"\n  }\n}\n",
      "\nDuring handling of the above exception, another exception occurred:\n",
      "\u001b[1;31mAPIError\u001b[0m                                  Traceback (most recent call last)",
      "\u001b[1;32m<ipython-input-5-6fde5013238e>\u001b[0m in \u001b[0;36m<module>\u001b[1;34m()\u001b[0m\n\u001b[0;32m      1\u001b[0m \u001b[1;32mwhile\u001b[0m \u001b[1;32mTrue\u001b[0m\u001b[1;33m:\u001b[0m\u001b[1;33m\u001b[0m\u001b[0m\n\u001b[1;32m----> 2\u001b[1;33m     \u001b[0mrun_monitor\u001b[0m\u001b[1;33m(\u001b[0m\u001b[1;33m)\u001b[0m\u001b[1;33m\u001b[0m\u001b[0m\n\u001b[0m\u001b[0;32m      3\u001b[0m     \u001b[0msleep\u001b[0m\u001b[1;33m(\u001b[0m\u001b[0mrandint\u001b[0m\u001b[1;33m(\u001b[0m\u001b[1;36m300\u001b[0m\u001b[1;33m,\u001b[0m \u001b[1;36m1000\u001b[0m\u001b[1;33m)\u001b[0m\u001b[1;33m)\u001b[0m\u001b[1;33m\u001b[0m\u001b[0m\n",
      "\u001b[1;32m<ipython-input-4-375351134dfc>\u001b[0m in \u001b[0;36mrun_monitor\u001b[1;34m()\u001b[0m\n\u001b[0;32m     70\u001b[0m                         \u001b[0msleep\u001b[0m\u001b[1;33m(\u001b[0m\u001b[1;36m10\u001b[0m\u001b[1;33m)\u001b[0m\u001b[1;33m\u001b[0m\u001b[0m\n\u001b[0;32m     71\u001b[0m                 \u001b[1;32mexcept\u001b[0m \u001b[0mException\u001b[0m \u001b[1;32mas\u001b[0m \u001b[0me\u001b[0m\u001b[1;33m:\u001b[0m\u001b[1;33m\u001b[0m\u001b[0m\n\u001b[1;32m---> 72\u001b[1;33m                     \u001b[0mwrite_error_report\u001b[0m\u001b[1;33m(\u001b[0m\u001b[0mreport_spreadsheet\u001b[0m\u001b[1;33m,\u001b[0m \u001b[0mreport_row\u001b[0m\u001b[1;33m,\u001b[0m \u001b[0mlogin\u001b[0m\u001b[1;33m,\u001b[0m \u001b[0me\u001b[0m\u001b[1;33m.\u001b[0m\u001b[0m__str__\u001b[0m\u001b[1;33m(\u001b[0m\u001b[1;33m)\u001b[0m\u001b[1;33m)\u001b[0m\u001b[1;33m\u001b[0m\u001b[0m\n\u001b[0m\u001b[0;32m     73\u001b[0m                     \u001b[0mreport_row\u001b[0m \u001b[1;33m+=\u001b[0m \u001b[1;36m1\u001b[0m\u001b[1;33m\u001b[0m\u001b[0m\n\u001b[0;32m     74\u001b[0m                     \u001b[0msleep\u001b[0m\u001b[1;33m(\u001b[0m\u001b[1;36m10\u001b[0m\u001b[1;33m)\u001b[0m\u001b[1;33m\u001b[0m\u001b[0m\n",
      "\u001b[1;32m<ipython-input-2-1363c8791048>\u001b[0m in \u001b[0;36mwrite_error_report\u001b[1;34m(spreadsheet, row, login, error)\u001b[0m\n\u001b[0;32m     17\u001b[0m \u001b[1;33m\u001b[0m\u001b[0m\n\u001b[0;32m     18\u001b[0m \u001b[1;32mdef\u001b[0m \u001b[0mwrite_error_report\u001b[0m\u001b[1;33m(\u001b[0m\u001b[0mspreadsheet\u001b[0m\u001b[1;33m,\u001b[0m \u001b[0mrow\u001b[0m\u001b[1;33m,\u001b[0m \u001b[0mlogin\u001b[0m\u001b[1;33m,\u001b[0m \u001b[0merror\u001b[0m\u001b[1;33m)\u001b[0m\u001b[1;33m:\u001b[0m\u001b[1;33m\u001b[0m\u001b[0m\n\u001b[1;32m---> 19\u001b[1;33m     \u001b[0mspreadsheet\u001b[0m\u001b[1;33m.\u001b[0m\u001b[0mupdate_cell\u001b[0m\u001b[1;33m(\u001b[0m\u001b[0mrow\u001b[0m\u001b[1;33m,\u001b[0m \u001b[1;36m1\u001b[0m\u001b[1;33m,\u001b[0m \u001b[0mlogin\u001b[0m\u001b[1;33m)\u001b[0m\u001b[1;33m\u001b[0m\u001b[0m\n\u001b[0m\u001b[0;32m     20\u001b[0m     \u001b[0mspreadsheet\u001b[0m\u001b[1;33m.\u001b[0m\u001b[0mupdate_cell\u001b[0m\u001b[1;33m(\u001b[0m\u001b[0mrow\u001b[0m\u001b[1;33m,\u001b[0m \u001b[1;36m8\u001b[0m\u001b[1;33m,\u001b[0m \u001b[0merror\u001b[0m\u001b[1;33m)\u001b[0m\u001b[1;33m\u001b[0m\u001b[0m\n\u001b[0;32m     21\u001b[0m \u001b[1;33m\u001b[0m\u001b[0m\n",
      "\u001b[1;32mC:\\ProgramData\\Anaconda3\\lib\\site-packages\\gspread\\models.py\u001b[0m in \u001b[0;36mupdate_cell\u001b[1;34m(self, row, col, value)\u001b[0m\n\u001b[0;32m    737\u001b[0m             },\n\u001b[0;32m    738\u001b[0m             body={\n\u001b[1;32m--> 739\u001b[1;33m                 \u001b[1;34m'values'\u001b[0m\u001b[1;33m:\u001b[0m \u001b[1;33m[\u001b[0m\u001b[1;33m[\u001b[0m\u001b[0mvalue\u001b[0m\u001b[1;33m]\u001b[0m\u001b[1;33m]\u001b[0m\u001b[1;33m\u001b[0m\u001b[0m\n\u001b[0m\u001b[0;32m    740\u001b[0m             }\n\u001b[0;32m    741\u001b[0m         )\n",
      "\u001b[1;32mC:\\ProgramData\\Anaconda3\\lib\\site-packages\\gspread\\models.py\u001b[0m in \u001b[0;36mvalues_update\u001b[1;34m(self, range, params, body)\u001b[0m\n\u001b[0;32m    174\u001b[0m         \"\"\"\n\u001b[0;32m    175\u001b[0m         \u001b[0murl\u001b[0m \u001b[1;33m=\u001b[0m \u001b[0mSPREADSHEET_VALUES_URL\u001b[0m \u001b[1;33m%\u001b[0m \u001b[1;33m(\u001b[0m\u001b[0mself\u001b[0m\u001b[1;33m.\u001b[0m\u001b[0mid\u001b[0m\u001b[1;33m,\u001b[0m \u001b[0mquote\u001b[0m\u001b[1;33m(\u001b[0m\u001b[0mrange\u001b[0m\u001b[1;33m)\u001b[0m\u001b[1;33m)\u001b[0m\u001b[1;33m\u001b[0m\u001b[0m\n\u001b[1;32m--> 176\u001b[1;33m         \u001b[0mr\u001b[0m \u001b[1;33m=\u001b[0m \u001b[0mself\u001b[0m\u001b[1;33m.\u001b[0m\u001b[0mclient\u001b[0m\u001b[1;33m.\u001b[0m\u001b[0mrequest\u001b[0m\u001b[1;33m(\u001b[0m\u001b[1;34m'put'\u001b[0m\u001b[1;33m,\u001b[0m \u001b[0murl\u001b[0m\u001b[1;33m,\u001b[0m \u001b[0mparams\u001b[0m\u001b[1;33m=\u001b[0m\u001b[0mparams\u001b[0m\u001b[1;33m,\u001b[0m \u001b[0mjson\u001b[0m\u001b[1;33m=\u001b[0m\u001b[0mbody\u001b[0m\u001b[1;33m)\u001b[0m\u001b[1;33m\u001b[0m\u001b[0m\n\u001b[0m\u001b[0;32m    177\u001b[0m         \u001b[1;32mreturn\u001b[0m \u001b[0mr\u001b[0m\u001b[1;33m.\u001b[0m\u001b[0mjson\u001b[0m\u001b[1;33m(\u001b[0m\u001b[1;33m)\u001b[0m\u001b[1;33m\u001b[0m\u001b[0m\n\u001b[0;32m    178\u001b[0m \u001b[1;33m\u001b[0m\u001b[0m\n",
      "\u001b[1;32mC:\\ProgramData\\Anaconda3\\lib\\site-packages\\gspread\\client.py\u001b[0m in \u001b[0;36mrequest\u001b[1;34m(self, method, endpoint, params, data, json, files, headers)\u001b[0m\n\u001b[0;32m     77\u001b[0m             \u001b[1;32mreturn\u001b[0m \u001b[0mresponse\u001b[0m\u001b[1;33m\u001b[0m\u001b[0m\n\u001b[0;32m     78\u001b[0m         \u001b[1;32melse\u001b[0m\u001b[1;33m:\u001b[0m\u001b[1;33m\u001b[0m\u001b[0m\n\u001b[1;32m---> 79\u001b[1;33m             \u001b[1;32mraise\u001b[0m \u001b[0mAPIError\u001b[0m\u001b[1;33m(\u001b[0m\u001b[0mresponse\u001b[0m\u001b[1;33m)\u001b[0m\u001b[1;33m\u001b[0m\u001b[0m\n\u001b[0m\u001b[0;32m     80\u001b[0m \u001b[1;33m\u001b[0m\u001b[0m\n\u001b[0;32m     81\u001b[0m     \u001b[1;32mdef\u001b[0m \u001b[0mlist_spreadsheet_files\u001b[0m\u001b[1;33m(\u001b[0m\u001b[0mself\u001b[0m\u001b[1;33m)\u001b[0m\u001b[1;33m:\u001b[0m\u001b[1;33m\u001b[0m\u001b[0m\n",
      "\u001b[1;31mAPIError\u001b[0m: {\n  \"error\": {\n    \"code\": 500,\n    \"message\": \"Internal error encountered.\",\n    \"status\": \"INTERNAL\"\n  }\n}\n"
     ]
    }
   ],
   "source": [
    "while True:\n",
    "    run_monitor()\n",
    "    sleep(randint(300, 1000))"
   ]
  },
  {
   "cell_type": "code",
   "execution_count": null,
   "metadata": {},
   "outputs": [],
   "source": []
  }
 ],
 "metadata": {
  "kernelspec": {
   "display_name": "Python 3",
   "language": "python",
   "name": "python3"
  },
  "language_info": {
   "codemirror_mode": {
    "name": "ipython",
    "version": 3
   },
   "file_extension": ".py",
   "mimetype": "text/x-python",
   "name": "python",
   "nbconvert_exporter": "python",
   "pygments_lexer": "ipython3",
   "version": "3.7.0"
  }
 },
 "nbformat": 4,
 "nbformat_minor": 2
}
